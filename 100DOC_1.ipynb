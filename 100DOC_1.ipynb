{
  "nbformat": 4,
  "nbformat_minor": 0,
  "metadata": {
    "colab": {
      "provenance": [],
      "collapsed_sections": [],
      "authorship_tag": "ABX9TyPEQzJKx1JKZxdqxoIdDvaK",
      "include_colab_link": true
    },
    "kernelspec": {
      "name": "python3",
      "display_name": "Python 3"
    },
    "language_info": {
      "name": "python"
    }
  },
  "cells": [
    {
      "cell_type": "markdown",
      "metadata": {
        "id": "view-in-github",
        "colab_type": "text"
      },
      "source": [
        "<a href=\"https://colab.research.google.com/github/leadeeerq/100DOC/blob/main/100DOC_1.ipynb\" target=\"_parent\"><img src=\"https://colab.research.google.com/assets/colab-badge.svg\" alt=\"Open In Colab\"/></a>"
      ]
    },
    {
      "cell_type": "code",
      "execution_count": null,
      "metadata": {
        "colab": {
          "base_uri": "https://localhost:8080/"
        },
        "id": "v8CHyxZNc7W2",
        "outputId": "04f4dfa4-aa0e-4fef-ebeb-9b06ef6d5f43"
      },
      "outputs": [
        {
          "output_type": "stream",
          "name": "stdout",
          "text": [
            "15\n"
          ]
        }
      ],
      "source": [
        "def outer_function(a, b):\n",
        "    def inner_function(c, d):\n",
        "        return c + d\n",
        "    return inner_function(a, b)\n",
        " \n",
        "result = outer_function(5, 10)\n",
        "print(result)"
      ]
    },
    {
      "cell_type": "code",
      "source": [
        "def all_aboard(a, *args, **kw): \n",
        "    print(a, args, kw)\n",
        " \n",
        "all_aboard(4, 7, 3, 0, x=10, y=64)"
      ],
      "metadata": {
        "id": "bg7adsVid3br",
        "outputId": "68680a5c-4849-42ba-a7ab-cb0b6c0ddb62",
        "colab": {
          "base_uri": "https://localhost:8080/"
        }
      },
      "execution_count": null,
      "outputs": [
        {
          "output_type": "stream",
          "name": "stdout",
          "text": [
            "4 (7, 3, 0) {'x': 10, 'y': 64}\n"
          ]
        }
      ]
    }
  ]
}